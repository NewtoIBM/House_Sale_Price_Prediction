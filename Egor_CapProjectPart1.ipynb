{
 "cells": [
  {
   "cell_type": "markdown",
   "metadata": {},
   "source": [
    "<img src=\"houses.jpg\" style=\"width:100%;height:400px\"/>"
   ]
  },
  {
   "cell_type": "markdown",
   "metadata": {},
   "source": [
    "# House Sale Prices Regression"
   ]
  },
  {
   "cell_type": "markdown",
   "metadata": {},
   "source": [
    "These house types are designed for the US and Canada . All of these house properties are related to a price. Which property is more or less expensive?All of these correlations are good to observe which is what I am going to do in this project.Whatever it takes: far from a highway, far from a mall? What does really impact on a price or what is optimal price, or is there an outlier? A lot of questions and considerations. I am going to answer these question doing some research and statistics in this project. \n",
    "\n",
    "original version of the dataset https://www.kaggle.com/c/house-prices-advanced-regression-techniques"
   ]
  },
  {
   "cell_type": "code",
   "execution_count": 1,
   "metadata": {},
   "outputs": [],
   "source": [
    "import pandas as pd\n",
    "import matplotlib\n",
    "import csv\n",
    "import numpy as np\n",
    "import scipy.stats\n",
    "import matplotlib.pyplot as plt\n",
    "import seaborn as sns"
   ]
  },
  {
   "cell_type": "code",
   "execution_count": 2,
   "metadata": {},
   "outputs": [
    {
     "data": {
      "text/html": [
       "<div>\n",
       "<style scoped>\n",
       "    .dataframe tbody tr th:only-of-type {\n",
       "        vertical-align: middle;\n",
       "    }\n",
       "\n",
       "    .dataframe tbody tr th {\n",
       "        vertical-align: top;\n",
       "    }\n",
       "\n",
       "    .dataframe thead th {\n",
       "        text-align: right;\n",
       "    }\n",
       "</style>\n",
       "<table border=\"1\" class=\"dataframe\">\n",
       "  <thead>\n",
       "    <tr style=\"text-align: right;\">\n",
       "      <th></th>\n",
       "      <th>Id</th>\n",
       "      <th>MSSubClass</th>\n",
       "      <th>MSZoning</th>\n",
       "      <th>LotFrontage</th>\n",
       "      <th>LotArea</th>\n",
       "      <th>Street</th>\n",
       "      <th>Alley</th>\n",
       "      <th>LotShape</th>\n",
       "      <th>LandContour</th>\n",
       "      <th>Utilities</th>\n",
       "      <th>...</th>\n",
       "      <th>PoolArea</th>\n",
       "      <th>PoolQC</th>\n",
       "      <th>Fence</th>\n",
       "      <th>MiscFeature</th>\n",
       "      <th>MiscVal</th>\n",
       "      <th>MoSold</th>\n",
       "      <th>YrSold</th>\n",
       "      <th>SaleType</th>\n",
       "      <th>SaleCondition</th>\n",
       "      <th>SalePrice</th>\n",
       "    </tr>\n",
       "  </thead>\n",
       "  <tbody>\n",
       "    <tr>\n",
       "      <th>0</th>\n",
       "      <td>1</td>\n",
       "      <td>60</td>\n",
       "      <td>RL</td>\n",
       "      <td>65.0</td>\n",
       "      <td>8450</td>\n",
       "      <td>Pave</td>\n",
       "      <td>NaN</td>\n",
       "      <td>Reg</td>\n",
       "      <td>Lvl</td>\n",
       "      <td>AllPub</td>\n",
       "      <td>...</td>\n",
       "      <td>0</td>\n",
       "      <td>NaN</td>\n",
       "      <td>NaN</td>\n",
       "      <td>NaN</td>\n",
       "      <td>0</td>\n",
       "      <td>2</td>\n",
       "      <td>2008</td>\n",
       "      <td>WD</td>\n",
       "      <td>Normal</td>\n",
       "      <td>208500</td>\n",
       "    </tr>\n",
       "    <tr>\n",
       "      <th>1</th>\n",
       "      <td>2</td>\n",
       "      <td>20</td>\n",
       "      <td>RL</td>\n",
       "      <td>80.0</td>\n",
       "      <td>9600</td>\n",
       "      <td>Pave</td>\n",
       "      <td>NaN</td>\n",
       "      <td>Reg</td>\n",
       "      <td>Lvl</td>\n",
       "      <td>AllPub</td>\n",
       "      <td>...</td>\n",
       "      <td>0</td>\n",
       "      <td>NaN</td>\n",
       "      <td>NaN</td>\n",
       "      <td>NaN</td>\n",
       "      <td>0</td>\n",
       "      <td>5</td>\n",
       "      <td>2007</td>\n",
       "      <td>WD</td>\n",
       "      <td>Normal</td>\n",
       "      <td>181500</td>\n",
       "    </tr>\n",
       "    <tr>\n",
       "      <th>2</th>\n",
       "      <td>3</td>\n",
       "      <td>60</td>\n",
       "      <td>RL</td>\n",
       "      <td>68.0</td>\n",
       "      <td>11250</td>\n",
       "      <td>Pave</td>\n",
       "      <td>NaN</td>\n",
       "      <td>IR1</td>\n",
       "      <td>Lvl</td>\n",
       "      <td>AllPub</td>\n",
       "      <td>...</td>\n",
       "      <td>0</td>\n",
       "      <td>NaN</td>\n",
       "      <td>NaN</td>\n",
       "      <td>NaN</td>\n",
       "      <td>0</td>\n",
       "      <td>9</td>\n",
       "      <td>2008</td>\n",
       "      <td>WD</td>\n",
       "      <td>Normal</td>\n",
       "      <td>223500</td>\n",
       "    </tr>\n",
       "    <tr>\n",
       "      <th>3</th>\n",
       "      <td>4</td>\n",
       "      <td>70</td>\n",
       "      <td>RL</td>\n",
       "      <td>60.0</td>\n",
       "      <td>9550</td>\n",
       "      <td>Pave</td>\n",
       "      <td>NaN</td>\n",
       "      <td>IR1</td>\n",
       "      <td>Lvl</td>\n",
       "      <td>AllPub</td>\n",
       "      <td>...</td>\n",
       "      <td>0</td>\n",
       "      <td>NaN</td>\n",
       "      <td>NaN</td>\n",
       "      <td>NaN</td>\n",
       "      <td>0</td>\n",
       "      <td>2</td>\n",
       "      <td>2006</td>\n",
       "      <td>WD</td>\n",
       "      <td>Abnorml</td>\n",
       "      <td>140000</td>\n",
       "    </tr>\n",
       "    <tr>\n",
       "      <th>4</th>\n",
       "      <td>5</td>\n",
       "      <td>60</td>\n",
       "      <td>RL</td>\n",
       "      <td>84.0</td>\n",
       "      <td>14260</td>\n",
       "      <td>Pave</td>\n",
       "      <td>NaN</td>\n",
       "      <td>IR1</td>\n",
       "      <td>Lvl</td>\n",
       "      <td>AllPub</td>\n",
       "      <td>...</td>\n",
       "      <td>0</td>\n",
       "      <td>NaN</td>\n",
       "      <td>NaN</td>\n",
       "      <td>NaN</td>\n",
       "      <td>0</td>\n",
       "      <td>12</td>\n",
       "      <td>2008</td>\n",
       "      <td>WD</td>\n",
       "      <td>Normal</td>\n",
       "      <td>250000</td>\n",
       "    </tr>\n",
       "    <tr>\n",
       "      <th>5</th>\n",
       "      <td>6</td>\n",
       "      <td>50</td>\n",
       "      <td>RL</td>\n",
       "      <td>85.0</td>\n",
       "      <td>14115</td>\n",
       "      <td>Pave</td>\n",
       "      <td>NaN</td>\n",
       "      <td>IR1</td>\n",
       "      <td>Lvl</td>\n",
       "      <td>AllPub</td>\n",
       "      <td>...</td>\n",
       "      <td>0</td>\n",
       "      <td>NaN</td>\n",
       "      <td>MnPrv</td>\n",
       "      <td>Shed</td>\n",
       "      <td>700</td>\n",
       "      <td>10</td>\n",
       "      <td>2009</td>\n",
       "      <td>WD</td>\n",
       "      <td>Normal</td>\n",
       "      <td>143000</td>\n",
       "    </tr>\n",
       "    <tr>\n",
       "      <th>6</th>\n",
       "      <td>7</td>\n",
       "      <td>20</td>\n",
       "      <td>RL</td>\n",
       "      <td>75.0</td>\n",
       "      <td>10084</td>\n",
       "      <td>Pave</td>\n",
       "      <td>NaN</td>\n",
       "      <td>Reg</td>\n",
       "      <td>Lvl</td>\n",
       "      <td>AllPub</td>\n",
       "      <td>...</td>\n",
       "      <td>0</td>\n",
       "      <td>NaN</td>\n",
       "      <td>NaN</td>\n",
       "      <td>NaN</td>\n",
       "      <td>0</td>\n",
       "      <td>8</td>\n",
       "      <td>2007</td>\n",
       "      <td>WD</td>\n",
       "      <td>Normal</td>\n",
       "      <td>307000</td>\n",
       "    </tr>\n",
       "    <tr>\n",
       "      <th>7</th>\n",
       "      <td>8</td>\n",
       "      <td>60</td>\n",
       "      <td>RL</td>\n",
       "      <td>NaN</td>\n",
       "      <td>10382</td>\n",
       "      <td>Pave</td>\n",
       "      <td>NaN</td>\n",
       "      <td>IR1</td>\n",
       "      <td>Lvl</td>\n",
       "      <td>AllPub</td>\n",
       "      <td>...</td>\n",
       "      <td>0</td>\n",
       "      <td>NaN</td>\n",
       "      <td>NaN</td>\n",
       "      <td>Shed</td>\n",
       "      <td>350</td>\n",
       "      <td>11</td>\n",
       "      <td>2009</td>\n",
       "      <td>WD</td>\n",
       "      <td>Normal</td>\n",
       "      <td>200000</td>\n",
       "    </tr>\n",
       "    <tr>\n",
       "      <th>8</th>\n",
       "      <td>9</td>\n",
       "      <td>50</td>\n",
       "      <td>RM</td>\n",
       "      <td>51.0</td>\n",
       "      <td>6120</td>\n",
       "      <td>Pave</td>\n",
       "      <td>NaN</td>\n",
       "      <td>Reg</td>\n",
       "      <td>Lvl</td>\n",
       "      <td>AllPub</td>\n",
       "      <td>...</td>\n",
       "      <td>0</td>\n",
       "      <td>NaN</td>\n",
       "      <td>NaN</td>\n",
       "      <td>NaN</td>\n",
       "      <td>0</td>\n",
       "      <td>4</td>\n",
       "      <td>2008</td>\n",
       "      <td>WD</td>\n",
       "      <td>Abnorml</td>\n",
       "      <td>129900</td>\n",
       "    </tr>\n",
       "    <tr>\n",
       "      <th>9</th>\n",
       "      <td>10</td>\n",
       "      <td>190</td>\n",
       "      <td>RL</td>\n",
       "      <td>50.0</td>\n",
       "      <td>7420</td>\n",
       "      <td>Pave</td>\n",
       "      <td>NaN</td>\n",
       "      <td>Reg</td>\n",
       "      <td>Lvl</td>\n",
       "      <td>AllPub</td>\n",
       "      <td>...</td>\n",
       "      <td>0</td>\n",
       "      <td>NaN</td>\n",
       "      <td>NaN</td>\n",
       "      <td>NaN</td>\n",
       "      <td>0</td>\n",
       "      <td>1</td>\n",
       "      <td>2008</td>\n",
       "      <td>WD</td>\n",
       "      <td>Normal</td>\n",
       "      <td>118000</td>\n",
       "    </tr>\n",
       "  </tbody>\n",
       "</table>\n",
       "<p>10 rows × 81 columns</p>\n",
       "</div>"
      ],
      "text/plain": [
       "   Id  MSSubClass MSZoning  LotFrontage  LotArea Street Alley LotShape  \\\n",
       "0   1          60       RL         65.0     8450   Pave   NaN      Reg   \n",
       "1   2          20       RL         80.0     9600   Pave   NaN      Reg   \n",
       "2   3          60       RL         68.0    11250   Pave   NaN      IR1   \n",
       "3   4          70       RL         60.0     9550   Pave   NaN      IR1   \n",
       "4   5          60       RL         84.0    14260   Pave   NaN      IR1   \n",
       "5   6          50       RL         85.0    14115   Pave   NaN      IR1   \n",
       "6   7          20       RL         75.0    10084   Pave   NaN      Reg   \n",
       "7   8          60       RL          NaN    10382   Pave   NaN      IR1   \n",
       "8   9          50       RM         51.0     6120   Pave   NaN      Reg   \n",
       "9  10         190       RL         50.0     7420   Pave   NaN      Reg   \n",
       "\n",
       "  LandContour Utilities  ... PoolArea PoolQC  Fence MiscFeature MiscVal  \\\n",
       "0         Lvl    AllPub  ...        0    NaN    NaN         NaN       0   \n",
       "1         Lvl    AllPub  ...        0    NaN    NaN         NaN       0   \n",
       "2         Lvl    AllPub  ...        0    NaN    NaN         NaN       0   \n",
       "3         Lvl    AllPub  ...        0    NaN    NaN         NaN       0   \n",
       "4         Lvl    AllPub  ...        0    NaN    NaN         NaN       0   \n",
       "5         Lvl    AllPub  ...        0    NaN  MnPrv        Shed     700   \n",
       "6         Lvl    AllPub  ...        0    NaN    NaN         NaN       0   \n",
       "7         Lvl    AllPub  ...        0    NaN    NaN        Shed     350   \n",
       "8         Lvl    AllPub  ...        0    NaN    NaN         NaN       0   \n",
       "9         Lvl    AllPub  ...        0    NaN    NaN         NaN       0   \n",
       "\n",
       "  MoSold YrSold  SaleType  SaleCondition  SalePrice  \n",
       "0      2   2008        WD         Normal     208500  \n",
       "1      5   2007        WD         Normal     181500  \n",
       "2      9   2008        WD         Normal     223500  \n",
       "3      2   2006        WD        Abnorml     140000  \n",
       "4     12   2008        WD         Normal     250000  \n",
       "5     10   2009        WD         Normal     143000  \n",
       "6      8   2007        WD         Normal     307000  \n",
       "7     11   2009        WD         Normal     200000  \n",
       "8      4   2008        WD        Abnorml     129900  \n",
       "9      1   2008        WD         Normal     118000  \n",
       "\n",
       "[10 rows x 81 columns]"
      ]
     },
     "execution_count": 2,
     "metadata": {},
     "output_type": "execute_result"
    }
   ],
   "source": [
    "# Import Train and Test Data \n",
    "train = '/Users/ceo/Desktop/'\n",
    "traindf=  pd.read_csv(train + 'train.csv') \n",
    "traindf.head(10)\n"
   ]
  },
  {
   "cell_type": "markdown",
   "metadata": {},
   "source": [
    "## Exploratory data analysis"
   ]
  },
  {
   "cell_type": "markdown",
   "metadata": {},
   "source": [
    "### output"
   ]
  },
  {
   "cell_type": "code",
   "execution_count": 3,
   "metadata": {},
   "outputs": [
    {
     "name": "stdout",
     "output_type": "stream",
     "text": [
      "<class 'pandas.core.frame.DataFrame'>\n",
      "RangeIndex: 1460 entries, 0 to 1459\n",
      "Data columns (total 81 columns):\n",
      " #   Column         Non-Null Count  Dtype  \n",
      "---  ------         --------------  -----  \n",
      " 0   1stFlrSF       1460 non-null   int64  \n",
      " 1   2ndFlrSF       1460 non-null   int64  \n",
      " 2   3SsnPorch      1460 non-null   int64  \n",
      " 3   Alley          91 non-null     object \n",
      " 4   BedroomAbvGr   1460 non-null   int64  \n",
      " 5   BldgType       1460 non-null   object \n",
      " 6   BsmtCond       1423 non-null   object \n",
      " 7   BsmtExposure   1422 non-null   object \n",
      " 8   BsmtFinSF1     1460 non-null   int64  \n",
      " 9   BsmtFinSF2     1460 non-null   int64  \n",
      " 10  BsmtFinType1   1423 non-null   object \n",
      " 11  BsmtFinType2   1422 non-null   object \n",
      " 12  BsmtFullBath   1460 non-null   int64  \n",
      " 13  BsmtHalfBath   1460 non-null   int64  \n",
      " 14  BsmtQual       1423 non-null   object \n",
      " 15  BsmtUnfSF      1460 non-null   int64  \n",
      " 16  CentralAir     1460 non-null   object \n",
      " 17  Condition1     1460 non-null   object \n",
      " 18  Condition2     1460 non-null   object \n",
      " 19  Electrical     1459 non-null   object \n",
      " 20  EnclosedPorch  1460 non-null   int64  \n",
      " 21  ExterCond      1460 non-null   object \n",
      " 22  ExterQual      1460 non-null   object \n",
      " 23  Exterior1st    1460 non-null   object \n",
      " 24  Exterior2nd    1460 non-null   object \n",
      " 25  Fence          281 non-null    object \n",
      " 26  FireplaceQu    770 non-null    object \n",
      " 27  Fireplaces     1460 non-null   int64  \n",
      " 28  Foundation     1460 non-null   object \n",
      " 29  FullBath       1460 non-null   int64  \n",
      " 30  Functional     1460 non-null   object \n",
      " 31  GarageArea     1460 non-null   int64  \n",
      " 32  GarageCars     1460 non-null   int64  \n",
      " 33  GarageCond     1379 non-null   object \n",
      " 34  GarageFinish   1379 non-null   object \n",
      " 35  GarageQual     1379 non-null   object \n",
      " 36  GarageType     1379 non-null   object \n",
      " 37  GarageYrBlt    1379 non-null   float64\n",
      " 38  GrLivArea      1460 non-null   int64  \n",
      " 39  HalfBath       1460 non-null   int64  \n",
      " 40  Heating        1460 non-null   object \n",
      " 41  HeatingQC      1460 non-null   object \n",
      " 42  HouseStyle     1460 non-null   object \n",
      " 43  Id             1460 non-null   int64  \n",
      " 44  KitchenAbvGr   1460 non-null   int64  \n",
      " 45  KitchenQual    1460 non-null   object \n",
      " 46  LandContour    1460 non-null   object \n",
      " 47  LandSlope      1460 non-null   object \n",
      " 48  LotArea        1460 non-null   int64  \n",
      " 49  LotConfig      1460 non-null   object \n",
      " 50  LotFrontage    1201 non-null   float64\n",
      " 51  LotShape       1460 non-null   object \n",
      " 52  LowQualFinSF   1460 non-null   int64  \n",
      " 53  MSSubClass     1460 non-null   int64  \n",
      " 54  MSZoning       1460 non-null   object \n",
      " 55  MasVnrArea     1452 non-null   float64\n",
      " 56  MasVnrType     1452 non-null   object \n",
      " 57  MiscFeature    54 non-null     object \n",
      " 58  MiscVal        1460 non-null   int64  \n",
      " 59  MoSold         1460 non-null   int64  \n",
      " 60  Neighborhood   1460 non-null   object \n",
      " 61  OpenPorchSF    1460 non-null   int64  \n",
      " 62  OverallCond    1460 non-null   int64  \n",
      " 63  OverallQual    1460 non-null   int64  \n",
      " 64  PavedDrive     1460 non-null   object \n",
      " 65  PoolArea       1460 non-null   int64  \n",
      " 66  PoolQC         7 non-null      object \n",
      " 67  RoofMatl       1460 non-null   object \n",
      " 68  RoofStyle      1460 non-null   object \n",
      " 69  SaleCondition  1460 non-null   object \n",
      " 70  SalePrice      1460 non-null   int64  \n",
      " 71  SaleType       1460 non-null   object \n",
      " 72  ScreenPorch    1460 non-null   int64  \n",
      " 73  Street         1460 non-null   object \n",
      " 74  TotRmsAbvGrd   1460 non-null   int64  \n",
      " 75  TotalBsmtSF    1460 non-null   int64  \n",
      " 76  Utilities      1460 non-null   object \n",
      " 77  WoodDeckSF     1460 non-null   int64  \n",
      " 78  YearBuilt      1460 non-null   int64  \n",
      " 79  YearRemodAdd   1460 non-null   int64  \n",
      " 80  YrSold         1460 non-null   int64  \n",
      "dtypes: float64(3), int64(35), object(43)\n",
      "memory usage: 924.0+ KB\n",
      "None\n"
     ]
    }
   ],
   "source": [
    "#exploring  what data types and if any missing values\n",
    "traindf = traindf.reindex(sorted(traindf.columns), axis=1) #sorting data alphabetically\n",
    "print(traindf.info())\n"
   ]
  },
  {
   "cell_type": "code",
   "execution_count": 4,
   "metadata": {},
   "outputs": [
    {
     "name": "stdout",
     "output_type": "stream",
     "text": [
      "Index(['1stFlrSF', '2ndFlrSF', '3SsnPorch', 'Alley', 'BedroomAbvGr',\n",
      "       'BldgType', 'BsmtCond', 'BsmtExposure', 'BsmtFinSF1', 'BsmtFinSF2',\n",
      "       'BsmtFinType1', 'BsmtFinType2', 'BsmtFullBath', 'BsmtHalfBath',\n",
      "       'BsmtQual', 'BsmtUnfSF', 'CentralAir', 'Condition1', 'Condition2',\n",
      "       'Electrical', 'EnclosedPorch', 'ExterCond', 'ExterQual', 'Exterior1st',\n",
      "       'Exterior2nd', 'Fence', 'FireplaceQu', 'Fireplaces', 'Foundation',\n",
      "       'FullBath', 'Functional', 'GarageArea', 'GarageCars', 'GarageCond',\n",
      "       'GarageFinish', 'GarageQual', 'GarageType', 'GarageYrBlt', 'GrLivArea',\n",
      "       'HalfBath', 'Heating', 'HeatingQC', 'HouseStyle', 'Id', 'KitchenAbvGr',\n",
      "       'KitchenQual', 'LandContour', 'LandSlope', 'LotArea', 'LotConfig',\n",
      "       'LotFrontage', 'LotShape', 'LowQualFinSF', 'MSSubClass', 'MSZoning',\n",
      "       'MasVnrArea', 'MasVnrType', 'MiscFeature', 'MiscVal', 'MoSold',\n",
      "       'Neighborhood', 'OpenPorchSF', 'OverallCond', 'OverallQual',\n",
      "       'PavedDrive', 'PoolArea', 'PoolQC', 'RoofMatl', 'RoofStyle',\n",
      "       'SaleCondition', 'SalePrice', 'SaleType', 'ScreenPorch', 'Street',\n",
      "       'TotRmsAbvGrd', 'TotalBsmtSF', 'Utilities', 'WoodDeckSF', 'YearBuilt',\n",
      "       'YearRemodAdd', 'YrSold'],\n",
      "      dtype='object')\n"
     ]
    }
   ],
   "source": [
    "print(traindf.columns)"
   ]
  },
  {
   "cell_type": "code",
   "execution_count": 5,
   "metadata": {},
   "outputs": [
    {
     "data": {
      "text/html": [
       "<div>\n",
       "<style scoped>\n",
       "    .dataframe tbody tr th:only-of-type {\n",
       "        vertical-align: middle;\n",
       "    }\n",
       "\n",
       "    .dataframe tbody tr th {\n",
       "        vertical-align: top;\n",
       "    }\n",
       "\n",
       "    .dataframe thead th {\n",
       "        text-align: right;\n",
       "    }\n",
       "</style>\n",
       "<table border=\"1\" class=\"dataframe\">\n",
       "  <thead>\n",
       "    <tr style=\"text-align: right;\">\n",
       "      <th></th>\n",
       "      <th>1stFlrSF</th>\n",
       "      <th>2ndFlrSF</th>\n",
       "      <th>3SsnPorch</th>\n",
       "      <th>Alley</th>\n",
       "      <th>BedroomAbvGr</th>\n",
       "      <th>BldgType</th>\n",
       "      <th>BsmtCond</th>\n",
       "      <th>BsmtExposure</th>\n",
       "      <th>BsmtFinSF1</th>\n",
       "      <th>BsmtFinSF2</th>\n",
       "      <th>...</th>\n",
       "      <th>SaleType</th>\n",
       "      <th>ScreenPorch</th>\n",
       "      <th>Street</th>\n",
       "      <th>TotRmsAbvGrd</th>\n",
       "      <th>TotalBsmtSF</th>\n",
       "      <th>Utilities</th>\n",
       "      <th>WoodDeckSF</th>\n",
       "      <th>YearBuilt</th>\n",
       "      <th>YearRemodAdd</th>\n",
       "      <th>YrSold</th>\n",
       "    </tr>\n",
       "  </thead>\n",
       "  <tbody>\n",
       "    <tr>\n",
       "      <th>0</th>\n",
       "      <td>856</td>\n",
       "      <td>854</td>\n",
       "      <td>0</td>\n",
       "      <td>NaN</td>\n",
       "      <td>3</td>\n",
       "      <td>1Fam</td>\n",
       "      <td>TA</td>\n",
       "      <td>No</td>\n",
       "      <td>706</td>\n",
       "      <td>0</td>\n",
       "      <td>...</td>\n",
       "      <td>WD</td>\n",
       "      <td>0</td>\n",
       "      <td>Pave</td>\n",
       "      <td>8</td>\n",
       "      <td>856</td>\n",
       "      <td>AllPub</td>\n",
       "      <td>0</td>\n",
       "      <td>2003</td>\n",
       "      <td>2003</td>\n",
       "      <td>2008</td>\n",
       "    </tr>\n",
       "    <tr>\n",
       "      <th>1</th>\n",
       "      <td>1262</td>\n",
       "      <td>0</td>\n",
       "      <td>0</td>\n",
       "      <td>NaN</td>\n",
       "      <td>3</td>\n",
       "      <td>1Fam</td>\n",
       "      <td>TA</td>\n",
       "      <td>Gd</td>\n",
       "      <td>978</td>\n",
       "      <td>0</td>\n",
       "      <td>...</td>\n",
       "      <td>WD</td>\n",
       "      <td>0</td>\n",
       "      <td>Pave</td>\n",
       "      <td>6</td>\n",
       "      <td>1262</td>\n",
       "      <td>AllPub</td>\n",
       "      <td>298</td>\n",
       "      <td>1976</td>\n",
       "      <td>1976</td>\n",
       "      <td>2007</td>\n",
       "    </tr>\n",
       "    <tr>\n",
       "      <th>2</th>\n",
       "      <td>920</td>\n",
       "      <td>866</td>\n",
       "      <td>0</td>\n",
       "      <td>NaN</td>\n",
       "      <td>3</td>\n",
       "      <td>1Fam</td>\n",
       "      <td>TA</td>\n",
       "      <td>Mn</td>\n",
       "      <td>486</td>\n",
       "      <td>0</td>\n",
       "      <td>...</td>\n",
       "      <td>WD</td>\n",
       "      <td>0</td>\n",
       "      <td>Pave</td>\n",
       "      <td>6</td>\n",
       "      <td>920</td>\n",
       "      <td>AllPub</td>\n",
       "      <td>0</td>\n",
       "      <td>2001</td>\n",
       "      <td>2002</td>\n",
       "      <td>2008</td>\n",
       "    </tr>\n",
       "    <tr>\n",
       "      <th>3</th>\n",
       "      <td>961</td>\n",
       "      <td>756</td>\n",
       "      <td>0</td>\n",
       "      <td>NaN</td>\n",
       "      <td>3</td>\n",
       "      <td>1Fam</td>\n",
       "      <td>Gd</td>\n",
       "      <td>No</td>\n",
       "      <td>216</td>\n",
       "      <td>0</td>\n",
       "      <td>...</td>\n",
       "      <td>WD</td>\n",
       "      <td>0</td>\n",
       "      <td>Pave</td>\n",
       "      <td>7</td>\n",
       "      <td>756</td>\n",
       "      <td>AllPub</td>\n",
       "      <td>0</td>\n",
       "      <td>1915</td>\n",
       "      <td>1970</td>\n",
       "      <td>2006</td>\n",
       "    </tr>\n",
       "    <tr>\n",
       "      <th>4</th>\n",
       "      <td>1145</td>\n",
       "      <td>1053</td>\n",
       "      <td>0</td>\n",
       "      <td>NaN</td>\n",
       "      <td>4</td>\n",
       "      <td>1Fam</td>\n",
       "      <td>TA</td>\n",
       "      <td>Av</td>\n",
       "      <td>655</td>\n",
       "      <td>0</td>\n",
       "      <td>...</td>\n",
       "      <td>WD</td>\n",
       "      <td>0</td>\n",
       "      <td>Pave</td>\n",
       "      <td>9</td>\n",
       "      <td>1145</td>\n",
       "      <td>AllPub</td>\n",
       "      <td>192</td>\n",
       "      <td>2000</td>\n",
       "      <td>2000</td>\n",
       "      <td>2008</td>\n",
       "    </tr>\n",
       "  </tbody>\n",
       "</table>\n",
       "<p>5 rows × 81 columns</p>\n",
       "</div>"
      ],
      "text/plain": [
       "   1stFlrSF  2ndFlrSF  3SsnPorch Alley  BedroomAbvGr BldgType BsmtCond  \\\n",
       "0       856       854          0   NaN             3     1Fam       TA   \n",
       "1      1262         0          0   NaN             3     1Fam       TA   \n",
       "2       920       866          0   NaN             3     1Fam       TA   \n",
       "3       961       756          0   NaN             3     1Fam       Gd   \n",
       "4      1145      1053          0   NaN             4     1Fam       TA   \n",
       "\n",
       "  BsmtExposure  BsmtFinSF1  BsmtFinSF2  ... SaleType ScreenPorch  Street  \\\n",
       "0           No         706           0  ...       WD           0    Pave   \n",
       "1           Gd         978           0  ...       WD           0    Pave   \n",
       "2           Mn         486           0  ...       WD           0    Pave   \n",
       "3           No         216           0  ...       WD           0    Pave   \n",
       "4           Av         655           0  ...       WD           0    Pave   \n",
       "\n",
       "   TotRmsAbvGrd TotalBsmtSF  Utilities WoodDeckSF YearBuilt YearRemodAdd  \\\n",
       "0             8         856     AllPub          0      2003         2003   \n",
       "1             6        1262     AllPub        298      1976         1976   \n",
       "2             6         920     AllPub          0      2001         2002   \n",
       "3             7         756     AllPub          0      1915         1970   \n",
       "4             9        1145     AllPub        192      2000         2000   \n",
       "\n",
       "  YrSold  \n",
       "0   2008  \n",
       "1   2007  \n",
       "2   2008  \n",
       "3   2006  \n",
       "4   2008  \n",
       "\n",
       "[5 rows x 81 columns]"
      ]
     },
     "execution_count": 5,
     "metadata": {},
     "output_type": "execute_result"
    }
   ],
   "source": [
    "#printing first 5 rows\n",
    "traindf.head(5)"
   ]
  },
  {
   "cell_type": "code",
   "execution_count": null,
   "metadata": {
    "scrolled": true
   },
   "outputs": [],
   "source": [
    "#pd.set_option('display.max_columns', None)\n",
    "#pd.set_option('display.max_rows', 2919)\n",
    "#display(combined.isnull().sum())"
   ]
  },
  {
   "cell_type": "code",
   "execution_count": 6,
   "metadata": {},
   "outputs": [
    {
     "name": "stdout",
     "output_type": "stream",
     "text": [
      "NaN      259\n",
      "60.0     143\n",
      "70.0      70\n",
      "80.0      69\n",
      "50.0      57\n",
      "        ... \n",
      "106.0      1\n",
      "38.0       1\n",
      "138.0      1\n",
      "140.0      1\n",
      "137.0      1\n",
      "Name: LotFrontage, Length: 111, dtype: int64\n",
      "7200     25\n",
      "9600     24\n",
      "6000     17\n",
      "10800    14\n",
      "9000     14\n",
      "         ..\n",
      "7094      1\n",
      "6130      1\n",
      "9337      1\n",
      "5232      1\n",
      "8190      1\n",
      "Name: LotArea, Length: 1073, dtype: int64\n"
     ]
    }
   ],
   "source": [
    "print(traindf['LotFrontage'].value_counts(dropna=False))\n",
    "print(traindf['LotArea'].value_counts(dropna=False))"
   ]
  },
  {
   "cell_type": "markdown",
   "metadata": {},
   "source": [
    "#  Data Wrangling  techniques "
   ]
  },
  {
   "cell_type": "code",
   "execution_count": 7,
   "metadata": {},
   "outputs": [],
   "source": [
    "traindf['BsmtCond'].fillna(traindf['BsmtCond'].mode()[0], inplace=True)  # filling NaN or missing value\n",
    "traindf['BsmtExposure'].fillna(traindf['BsmtExposure'].mode()[0], inplace=True)  \n",
    "traindf['BsmtQual'].fillna(traindf['BsmtQual'].mode()[0], inplace=True) \n",
    "traindf['BsmtFinType1'].fillna(traindf['BsmtFinType1'].mode()[0], inplace=True)  \n",
    "traindf['BsmtFinType2'].fillna(traindf['BsmtFinType2'].mode()[0], inplace=True)  \n",
    "traindf['Electrical'].fillna(traindf['Electrical'].mode()[0], inplace=True)  \n",
    "traindf['FireplaceQu'].fillna(traindf['FireplaceQu'].mode()[0], inplace=True)  \n",
    "traindf['GarageArea'].fillna(traindf['GarageArea'].mode()[0], inplace=True)  \n",
    "traindf['GarageCond'].fillna(traindf['GarageCond'].mode()[0], inplace=True)  \n",
    "traindf['GarageFinish'].fillna(traindf['GarageFinish'].mode()[0], inplace=True)  \n",
    "traindf['GarageQual'].fillna(traindf['GarageQual'].mode()[0], inplace=True)  \n",
    "traindf['GarageType'].fillna(traindf['GarageType'].mode()[0], inplace=True)  \n",
    "traindf['MasVnrType'].fillna(traindf['MasVnrType'].mode()[0], inplace=True)  \n",
    "\n",
    "\n",
    "traindf.GarageYrBlt.fillna(traindf.GarageYrBlt.median(),inplace=True)\n",
    "traindf.LotFrontage.fillna(traindf.LotFrontage.median(),inplace=True)\n",
    "traindf.MasVnrArea.fillna(traindf.MasVnrArea.median(),inplace=True)\n",
    "\n",
    "\n"
   ]
  },
  {
   "cell_type": "code",
   "execution_count": 8,
   "metadata": {},
   "outputs": [],
   "source": [
    "traindf.drop(['Alley'], axis=1, inplace=True)\n",
    "traindf.drop(['PoolQC'], axis=1, inplace=True)\n",
    "traindf.drop(['MiscFeature'], axis=1, inplace=True)\n",
    "traindf.drop(['Fence'], axis=1, inplace=True)\n",
    "#dropping extra column that is will not be used in any ways  and adds a noise.\n",
    "traindf.drop(['Id'], axis=1, inplace=True)"
   ]
  },
  {
   "cell_type": "code",
   "execution_count": 9,
   "metadata": {},
   "outputs": [
    {
     "name": "stdout",
     "output_type": "stream",
     "text": [
      "<class 'pandas.core.frame.DataFrame'>\n",
      "RangeIndex: 1460 entries, 0 to 1459\n",
      "Data columns (total 76 columns):\n",
      " #   Column         Non-Null Count  Dtype  \n",
      "---  ------         --------------  -----  \n",
      " 0   1stFlrSF       1460 non-null   int64  \n",
      " 1   2ndFlrSF       1460 non-null   int64  \n",
      " 2   3SsnPorch      1460 non-null   int64  \n",
      " 3   BedroomAbvGr   1460 non-null   int64  \n",
      " 4   BldgType       1460 non-null   object \n",
      " 5   BsmtCond       1460 non-null   object \n",
      " 6   BsmtExposure   1460 non-null   object \n",
      " 7   BsmtFinSF1     1460 non-null   int64  \n",
      " 8   BsmtFinSF2     1460 non-null   int64  \n",
      " 9   BsmtFinType1   1460 non-null   object \n",
      " 10  BsmtFinType2   1460 non-null   object \n",
      " 11  BsmtFullBath   1460 non-null   int64  \n",
      " 12  BsmtHalfBath   1460 non-null   int64  \n",
      " 13  BsmtQual       1460 non-null   object \n",
      " 14  BsmtUnfSF      1460 non-null   int64  \n",
      " 15  CentralAir     1460 non-null   object \n",
      " 16  Condition1     1460 non-null   object \n",
      " 17  Condition2     1460 non-null   object \n",
      " 18  Electrical     1460 non-null   object \n",
      " 19  EnclosedPorch  1460 non-null   int64  \n",
      " 20  ExterCond      1460 non-null   object \n",
      " 21  ExterQual      1460 non-null   object \n",
      " 22  Exterior1st    1460 non-null   object \n",
      " 23  Exterior2nd    1460 non-null   object \n",
      " 24  FireplaceQu    1460 non-null   object \n",
      " 25  Fireplaces     1460 non-null   int64  \n",
      " 26  Foundation     1460 non-null   object \n",
      " 27  FullBath       1460 non-null   int64  \n",
      " 28  Functional     1460 non-null   object \n",
      " 29  GarageArea     1460 non-null   int64  \n",
      " 30  GarageCars     1460 non-null   int64  \n",
      " 31  GarageCond     1460 non-null   object \n",
      " 32  GarageFinish   1460 non-null   object \n",
      " 33  GarageQual     1460 non-null   object \n",
      " 34  GarageType     1460 non-null   object \n",
      " 35  GarageYrBlt    1460 non-null   float64\n",
      " 36  GrLivArea      1460 non-null   int64  \n",
      " 37  HalfBath       1460 non-null   int64  \n",
      " 38  Heating        1460 non-null   object \n",
      " 39  HeatingQC      1460 non-null   object \n",
      " 40  HouseStyle     1460 non-null   object \n",
      " 41  KitchenAbvGr   1460 non-null   int64  \n",
      " 42  KitchenQual    1460 non-null   object \n",
      " 43  LandContour    1460 non-null   object \n",
      " 44  LandSlope      1460 non-null   object \n",
      " 45  LotArea        1460 non-null   int64  \n",
      " 46  LotConfig      1460 non-null   object \n",
      " 47  LotFrontage    1460 non-null   float64\n",
      " 48  LotShape       1460 non-null   object \n",
      " 49  LowQualFinSF   1460 non-null   int64  \n",
      " 50  MSSubClass     1460 non-null   int64  \n",
      " 51  MSZoning       1460 non-null   object \n",
      " 52  MasVnrArea     1460 non-null   float64\n",
      " 53  MasVnrType     1460 non-null   object \n",
      " 54  MiscVal        1460 non-null   int64  \n",
      " 55  MoSold         1460 non-null   int64  \n",
      " 56  Neighborhood   1460 non-null   object \n",
      " 57  OpenPorchSF    1460 non-null   int64  \n",
      " 58  OverallCond    1460 non-null   int64  \n",
      " 59  OverallQual    1460 non-null   int64  \n",
      " 60  PavedDrive     1460 non-null   object \n",
      " 61  PoolArea       1460 non-null   int64  \n",
      " 62  RoofMatl       1460 non-null   object \n",
      " 63  RoofStyle      1460 non-null   object \n",
      " 64  SaleCondition  1460 non-null   object \n",
      " 65  SalePrice      1460 non-null   int64  \n",
      " 66  SaleType       1460 non-null   object \n",
      " 67  ScreenPorch    1460 non-null   int64  \n",
      " 68  Street         1460 non-null   object \n",
      " 69  TotRmsAbvGrd   1460 non-null   int64  \n",
      " 70  TotalBsmtSF    1460 non-null   int64  \n",
      " 71  Utilities      1460 non-null   object \n",
      " 72  WoodDeckSF     1460 non-null   int64  \n",
      " 73  YearBuilt      1460 non-null   int64  \n",
      " 74  YearRemodAdd   1460 non-null   int64  \n",
      " 75  YrSold         1460 non-null   int64  \n",
      "dtypes: float64(3), int64(34), object(39)\n",
      "memory usage: 867.0+ KB\n"
     ]
    }
   ],
   "source": [
    "traindf.info()  #checking if missing values are filled"
   ]
  },
  {
   "cell_type": "code",
   "execution_count": 10,
   "metadata": {},
   "outputs": [
    {
     "name": "stdout",
     "output_type": "stream",
     "text": [
      "(1460, 76)\n"
     ]
    }
   ],
   "source": [
    "# checking number of columns and rows\n",
    "print(traindf.shape) "
   ]
  },
  {
   "cell_type": "code",
   "execution_count": 11,
   "metadata": {},
   "outputs": [
    {
     "data": {
      "text/plain": [
       "0       False\n",
       "1       False\n",
       "2       False\n",
       "3       False\n",
       "4       False\n",
       "        ...  \n",
       "1455    False\n",
       "1456    False\n",
       "1457    False\n",
       "1458    False\n",
       "1459    False\n",
       "Length: 1460, dtype: bool"
      ]
     },
     "execution_count": 11,
     "metadata": {},
     "output_type": "execute_result"
    }
   ],
   "source": [
    "# checking for duplicates\n",
    "traindf.duplicated() "
   ]
  },
  {
   "cell_type": "code",
   "execution_count": 12,
   "metadata": {},
   "outputs": [],
   "source": [
    "# testing with assert statement if I have null values\n",
    "assert pd.notnull(traindf).all().all() "
   ]
  },
  {
   "cell_type": "markdown",
   "metadata": {},
   "source": [
    "# Detecting outliers"
   ]
  },
  {
   "cell_type": "code",
   "execution_count": 13,
   "metadata": {},
   "outputs": [
    {
     "data": {
      "text/plain": [
       "(array([148., 723., 373., 135.,  51.,  19.,   4.,   3.,   2.,   2.]),\n",
       " array([ 34900., 106910., 178920., 250930., 322940., 394950., 466960.,\n",
       "        538970., 610980., 682990., 755000.]),\n",
       " <a list of 10 Patch objects>)"
      ]
     },
     "execution_count": 13,
     "metadata": {},
     "output_type": "execute_result"
    },
    {
     "data": {
      "image/png": "[encoded data removed]",
      "text/plain": [
       "<Figure size 432x288 with 1 Axes>"
      ]
     },
     "metadata": {
      "needs_background": "light"
     },
     "output_type": "display_data"
    }
   ],
   "source": [
    "plt.hist(traindf.SalePrice)"
   ]
  },
  {
   "cell_type": "code",
   "execution_count": 14,
   "metadata": {},
   "outputs": [
    {
     "data": {
      "text/plain": [
       "(array([  5.,  12.,  54., 184., 470., 400., 220.,  90.,  19.,   6.]),\n",
       " array([10.46024211, 10.7676652 , 11.07508829, 11.38251138, 11.68993448,\n",
       "        11.99735757, 12.30478066, 12.61220375, 12.91962684, 13.22704994,\n",
       "        13.53447303]),\n",
       " <a list of 10 Patch objects>)"
      ]
     },
     "execution_count": 14,
     "metadata": {},
     "output_type": "execute_result"
    },
    {
     "data": {
      "image/png": "[encoded data removed]",
      "text/plain": [
       "<Figure size 432x288 with 1 Axes>"
      ]
     },
     "metadata": {
      "needs_background": "light"
     },
     "output_type": "display_data"
    }
   ],
   "source": [
    "plt.hist(np.log(traindf.SalePrice))"
   ]
  },
  {
   "cell_type": "code",
   "execution_count": 15,
   "metadata": {},
   "outputs": [
    {
     "data": {
      "text/plain": [
       "0.25    129975.0\n",
       "0.50    163000.0\n",
       "0.75    214000.0\n",
       "Name: SalePrice, dtype: float64"
      ]
     },
     "execution_count": 15,
     "metadata": {},
     "output_type": "execute_result"
    }
   ],
   "source": [
    "#Finding quartiles of SalePrice\n",
    "traindf.SalePrice.quantile([0.25,0.5,0.75])"
   ]
  },
  {
   "cell_type": "code",
   "execution_count": 16,
   "metadata": {},
   "outputs": [
    {
     "data": {
      "text/plain": [
       "84025.0"
      ]
     },
     "execution_count": 16,
     "metadata": {},
     "output_type": "execute_result"
    }
   ],
   "source": [
    "#IQR = 75th percentile-25th percentile\n",
    "first_q = traindf.SalePrice.quantile(q=0.25)\n",
    "third_q = traindf.SalePrice.quantile(q=0.75)\n",
    "IQR =(third_q - first_q)\n",
    "IQR"
   ]
  },
  {
   "cell_type": "code",
   "execution_count": 18,
   "metadata": {},
   "outputs": [],
   "source": [
    "mean = traindf.SalePrice.mean()"
   ]
  },
  {
   "cell_type": "code",
   "execution_count": 19,
   "metadata": {},
   "outputs": [
    {
     "data": {
      "text/plain": [
       "54883.69589041095"
      ]
     },
     "execution_count": 19,
     "metadata": {},
     "output_type": "execute_result"
    }
   ],
   "source": [
    "#Any number less than this is a suspected outlier.\n",
    "mean-1.5*IQR"
   ]
  },
  {
   "cell_type": "code",
   "execution_count": 20,
   "metadata": {},
   "outputs": [
    {
     "data": {
      "text/plain": [
       "306958.6958904109"
      ]
     },
     "execution_count": 20,
     "metadata": {},
     "output_type": "execute_result"
    }
   ],
   "source": [
    "#Any number greater than this is a suspected outlier.\n",
    "mean + 1.5*IQR"
   ]
  },
  {
   "cell_type": "markdown",
   "metadata": {},
   "source": [
    "# The boundaries are found so I can remove the data that is out of these boundaries."
   ]
  },
  {
   "cell_type": "code",
   "execution_count": 22,
   "metadata": {},
   "outputs": [
    {
     "data": {
      "text/plain": [
       "30      40000\n",
       "495     34900\n",
       "533     39300\n",
       "710     52000\n",
       "916     35311\n",
       "968     37900\n",
       "1337    52500\n",
       "Name: SalePrice, dtype: int64"
      ]
     },
     "metadata": {},
     "output_type": "display_data"
    }
   ],
   "source": [
    "outlier_less = traindf[(traindf['SalePrice'] < 54883.69589041095)] \n",
    "#df4 = combined[combined['SalePrice'] > 36962.5] \n",
    "#df4['SalePrice']\n",
    "#display(combined.isnull().sum())\n",
    "pd.set_option('display.max_columns', None)\n",
    "pd.set_option('display.max_rows', 2919)\n",
    "display(outlier_less.SalePrice)"
   ]
  },
  {
   "cell_type": "code",
   "execution_count": 23,
   "metadata": {},
   "outputs": [
    {
     "data": {
      "text/plain": [
       "6       307000\n",
       "11      345000\n",
       "20      325300\n",
       "35      309000\n",
       "45      319900\n",
       "53      385000\n",
       "58      438780\n",
       "65      317000\n",
       "112     383970\n",
       "118     320000\n",
       "151     372402\n",
       "159     320000\n",
       "161     412500\n",
       "167     325624\n",
       "178     501837\n",
       "185     475000\n",
       "190     315000\n",
       "196     311872\n",
       "218     311500\n",
       "224     386250\n",
       "231     403000\n",
       "238     318000\n",
       "278     415298\n",
       "309     360000\n",
       "313     375000\n",
       "320     342643\n",
       "321     354000\n",
       "326     324000\n",
       "336     377426\n",
       "349     437154\n",
       "350     318061\n",
       "377     340000\n",
       "378     394432\n",
       "389     426000\n",
       "409     339750\n",
       "423     315000\n",
       "440     555000\n",
       "473     440000\n",
       "477     380000\n",
       "480     326000\n",
       "481     374000\n",
       "496     430000\n",
       "515     402861\n",
       "524     315750\n",
       "527     446261\n",
       "540     315000\n",
       "566     325000\n",
       "568     316600\n",
       "583     325000\n",
       "585     369900\n",
       "591     451950\n",
       "595     319000\n",
       "608     359100\n",
       "610     313000\n",
       "618     314813\n",
       "642     345000\n",
       "644     370878\n",
       "654     350000\n",
       "661     402000\n",
       "664     423000\n",
       "678     372500\n",
       "688     392000\n",
       "691     755000\n",
       "692     335000\n",
       "700     312500\n",
       "702     361919\n",
       "718     341000\n",
       "724     320000\n",
       "763     337000\n",
       "769     538000\n",
       "774     395000\n",
       "798     485000\n",
       "803     582933\n",
       "825     385000\n",
       "877     350000\n",
       "885     328900\n",
       "898     611657\n",
       "932     320000\n",
       "981     336000\n",
       "987     395192\n",
       "990     348000\n",
       "994     337500\n",
       "1032    310000\n",
       "1036    315500\n",
       "1046    556581\n",
       "1058    335000\n",
       "1065    328000\n",
       "1105    325000\n",
       "1115    318000\n",
       "1142    424870\n",
       "1169    625000\n",
       "1181    392500\n",
       "1182    745000\n",
       "1228    367294\n",
       "1243    465000\n",
       "1267    378500\n",
       "1268    381000\n",
       "1305    325000\n",
       "1310    335000\n",
       "1313    333168\n",
       "1353    410000\n",
       "1359    315000\n",
       "1373    466500\n",
       "1388    377500\n",
       "1417    340000\n",
       "1437    394617\n",
       "1442    310000\n",
       "Name: SalePrice, dtype: int64"
      ]
     },
     "execution_count": 23,
     "metadata": {},
     "output_type": "execute_result"
    }
   ],
   "source": [
    "outlier_great = traindf[(traindf['SalePrice'] > 306958.6958904109) ]\n",
    "outlier_great.fillna(method='bfill') \n",
    "#df4 = combined[combined['SalePrice'] < 289037.5 ] \n",
    "#print(df4['SalePrice'])\n",
    "outlier_great.SalePrice"
   ]
  },
  {
   "cell_type": "code",
   "execution_count": 24,
   "metadata": {},
   "outputs": [
    {
     "data": {
      "image/png": "[encoded data removed]",
      "text/plain": [
       "<Figure size 432x288 with 1 Axes>"
      ]
     },
     "metadata": {},
     "output_type": "display_data"
    }
   ],
   "source": [
    "sns.set(color_codes=True)\n",
    "\n",
    "sns.distplot(outlier_less.SalePrice,bins=20).set_title('Distribution of Sale Prices  that less than 54883.69589041095',fontsize=16);"
   ]
  },
  {
   "cell_type": "code",
   "execution_count": 25,
   "metadata": {},
   "outputs": [
    {
     "data": {
      "image/png": "[encoded data removed]",
      "text/plain": [
       "<Figure size 432x288 with 1 Axes>"
      ]
     },
     "metadata": {},
     "output_type": "display_data"
    }
   ],
   "source": [
    "sns.set(color_codes=True)\n",
    "\n",
    "sns.distplot(outlier_great['SalePrice'],bins=20).set_title('Distribution of Sale Prices that greater than 306958.6958904109  ',fontsize=16);"
   ]
  }
 ],
 "metadata": {
  "kernelspec": {
   "display_name": "Python 3",
   "language": "python",
   "name": "python3"
  },
  "language_info": {
   "codemirror_mode": {
    "name": "ipython",
    "version": 3
   },
   "file_extension": ".py",
   "mimetype": "text/x-python",
   "name": "python",
   "nbconvert_exporter": "python",
   "pygments_lexer": "ipython3",
   "version": "3.7.6"
  }
 },
 "nbformat": 4,
 "nbformat_minor": 2
}
